{
 "cells": [
  {
   "cell_type": "markdown",
   "metadata": {},
   "source": [
    "# Plotting\n",
    "\n",
    "Elements of Data Science\n",
    "\n",
    "by [Allen Downey](https://allendowney.com)\n",
    "\n",
    "[MIT License](https://opensource.org/licenses/MIT)\n",
    "\n",
    "### Goals\n",
    "\n",
    "This notebook presents ways to create figures and graphs, more generally called \"data visualizations\".  As examples, we'll generate three figures:\n",
    "\n",
    "* We'll replicate a figure from the Pew Research Center that shows changes in religious affiliation in the U.S. over time.\n",
    "\n",
    "* We'll replicate the figure from *The Economist* that shows the prices of sandwiches in Boston and London (we saw this data back in Notebook 03).\n",
    "\n",
    "* We'll make a plot to test Zipf's law, which describes the relationship between word frequencies and their ranks.\n",
    "\n",
    "With the tools in this notebook, you can generate a variety of simple graphs.  We will see more visualization tools in later notebooks.\n",
    "\n",
    "But before we get started with plotting, we need a new language feature: keyword arguments."
   ]
  },
  {
   "cell_type": "markdown",
   "metadata": {},
   "source": [
    "## Keyword arguments\n",
    "\n",
    "When you call most functions, you have to provide values.  For example, when you call `np.exp`, the value you provide is a number: "
   ]
  },
  {
   "cell_type": "code",
   "execution_count": 1,
   "metadata": {},
   "outputs": [
    {
     "data": {
      "text/plain": [
       "2.718281828459045"
      ]
     },
     "execution_count": 1,
     "metadata": {},
     "output_type": "execute_result"
    }
   ],
   "source": [
    "import numpy as np\n",
    "\n",
    "np.exp(1)"
   ]
  },
  {
   "cell_type": "markdown",
   "metadata": {},
   "source": [
    "When you call `np.power`, you have to provide two numbers:"
   ]
  },
  {
   "cell_type": "code",
   "execution_count": 2,
   "metadata": {},
   "outputs": [
    {
     "data": {
      "text/plain": [
       "1000000"
      ]
     },
     "execution_count": 2,
     "metadata": {},
     "output_type": "execute_result"
    }
   ],
   "source": [
    "np.power(10, 6)"
   ]
  },
  {
   "cell_type": "markdown",
   "metadata": {},
   "source": [
    "The values you provide are called \"arguments\".  Specifically, the values in these examples are \"positional arguments\" because their position determines how they are used.\n",
    "\n",
    "In the second example, `power` computes `10` to the sixth power, not `6` to the 10th power because of the order of the arguments.\n",
    "\n",
    "Many functions also take \"keyword arguments\", which are optional.  For example, we have previously used `int` to convert a string to an integer."
   ]
  },
  {
   "cell_type": "code",
   "execution_count": 3,
   "metadata": {},
   "outputs": [
    {
     "data": {
      "text/plain": [
       "21"
      ]
     },
     "execution_count": 3,
     "metadata": {},
     "output_type": "execute_result"
    }
   ],
   "source": [
    "int('21')"
   ]
  },
  {
   "cell_type": "markdown",
   "metadata": {},
   "source": [
    "By default, `int` assumes that the number is in base 10.  But you can provide a keyword argument that specifies a different base.\n",
    "\n",
    "For example, the string `'21'`, interpreted in base 8, represents the number `2 * 8 + 1 = 17`.  Here's how we do this conversion using `int`."
   ]
  },
  {
   "cell_type": "code",
   "execution_count": 6,
   "metadata": {},
   "outputs": [
    {
     "data": {
      "text/plain": [
       "17"
      ]
     },
     "execution_count": 6,
     "metadata": {},
     "output_type": "execute_result"
    }
   ],
   "source": [
    "int('21', base=8)"
   ]
  },
  {
   "cell_type": "markdown",
   "metadata": {},
   "source": [
    "The string `'21'` is a positional argument.  The integer value `8` is a keyword argument, with the keyword `base`.\n",
    "\n",
    "Specifying a keyword argument looks like an assignment statement, but it does not create a new variable."
   ]
  },
  {
   "cell_type": "code",
   "execution_count": 7,
   "metadata": {},
   "outputs": [
    {
     "ename": "NameError",
     "evalue": "name 'base' is not defined",
     "output_type": "error",
     "traceback": [
      "\u001b[0;31m---------------------------------------------------------------------------\u001b[0m",
      "\u001b[0;31mNameError\u001b[0m                                 Traceback (most recent call last)",
      "\u001b[0;32m<ipython-input-7-51c64a6f4fc3>\u001b[0m in \u001b[0;36m<module>\u001b[0;34m\u001b[0m\n\u001b[0;32m----> 1\u001b[0;31m \u001b[0mbase\u001b[0m\u001b[0;34m\u001b[0m\u001b[0;34m\u001b[0m\u001b[0m\n\u001b[0m",
      "\u001b[0;31mNameError\u001b[0m: name 'base' is not defined"
     ]
    }
   ],
   "source": [
    "base"
   ]
  },
  {
   "cell_type": "markdown",
   "metadata": {},
   "source": [
    "And when you specify a keyword argument, you don't choose the variable name.  In this example, the keyword name, `base`, is part of the definition of `int`.  If you specify another keyword name, you get an error."
   ]
  },
  {
   "cell_type": "code",
   "execution_count": 8,
   "metadata": {},
   "outputs": [
    {
     "ename": "TypeError",
     "evalue": "'bass' is an invalid keyword argument for int()",
     "output_type": "error",
     "traceback": [
      "\u001b[0;31m---------------------------------------------------------------------------\u001b[0m",
      "\u001b[0;31mTypeError\u001b[0m                                 Traceback (most recent call last)",
      "\u001b[0;32m<ipython-input-8-ce15d533a9e4>\u001b[0m in \u001b[0;36m<module>\u001b[0;34m\u001b[0m\n\u001b[0;32m----> 1\u001b[0;31m \u001b[0mint\u001b[0m\u001b[0;34m(\u001b[0m\u001b[0;34m'123'\u001b[0m\u001b[0;34m,\u001b[0m \u001b[0mbass\u001b[0m\u001b[0;34m=\u001b[0m\u001b[0;36m11\u001b[0m\u001b[0;34m)\u001b[0m\u001b[0;34m\u001b[0m\u001b[0;34m\u001b[0m\u001b[0m\n\u001b[0m",
      "\u001b[0;31mTypeError\u001b[0m: 'bass' is an invalid keyword argument for int()"
     ]
    }
   ],
   "source": [
    "int('123', bass=11)"
   ]
  },
  {
   "cell_type": "markdown",
   "metadata": {},
   "source": [
    "**Exercise:** Use `int` to compute the value of `\"123\"` interpreted in base 5.  What happens if you try to interpret `\"123\"` as a base 3 number?"
   ]
  },
  {
   "cell_type": "code",
   "execution_count": 9,
   "metadata": {},
   "outputs": [
    {
     "data": {
      "text/plain": [
       "38"
      ]
     },
     "execution_count": 9,
     "metadata": {},
     "output_type": "execute_result"
    }
   ],
   "source": [
    "int(\"123\", base=5)"
   ]
  },
  {
   "cell_type": "code",
   "execution_count": 10,
   "metadata": {},
   "outputs": [
    {
     "ename": "ValueError",
     "evalue": "invalid literal for int() with base 3: '123'",
     "output_type": "error",
     "traceback": [
      "\u001b[0;31m---------------------------------------------------------------------------\u001b[0m",
      "\u001b[0;31mValueError\u001b[0m                                Traceback (most recent call last)",
      "\u001b[0;32m<ipython-input-10-36658e6c5393>\u001b[0m in \u001b[0;36m<module>\u001b[0;34m\u001b[0m\n\u001b[0;32m----> 1\u001b[0;31m \u001b[0mint\u001b[0m\u001b[0;34m(\u001b[0m\u001b[0;34m\"123\"\u001b[0m\u001b[0;34m,\u001b[0m \u001b[0mbase\u001b[0m\u001b[0;34m=\u001b[0m\u001b[0;36m3\u001b[0m\u001b[0;34m)\u001b[0m\u001b[0;34m\u001b[0m\u001b[0;34m\u001b[0m\u001b[0m\n\u001b[0m",
      "\u001b[0;31mValueError\u001b[0m: invalid literal for int() with base 3: '123'"
     ]
    }
   ],
   "source": [
    "int(\"123\", base=3)"
   ]
  },
  {
   "cell_type": "markdown",
   "metadata": {},
   "source": [
    "**Exercise:** The `print` function takes a keyword argument called `end` that specifies the character it prints at the end of the line.  By default, `end` is the newline character, `\\n`.  So if you call `print` more than once, the results normally appear on separate lines, like this:"
   ]
  },
  {
   "cell_type": "code",
   "execution_count": 11,
   "metadata": {},
   "outputs": [
    {
     "name": "stdout",
     "output_type": "stream",
     "text": [
      "1\n",
      "2\n",
      "3\n"
     ]
    }
   ],
   "source": [
    "for x in [1, 2, 3]:\n",
    "    print(x)"
   ]
  },
  {
   "cell_type": "markdown",
   "metadata": {},
   "source": [
    "Modify the previous example so it prints the elements of the list, all on one line, with spaces between them.\n",
    "\n",
    "Then modify it to print an open bracket at the beginning and a close bracket and newline at the end."
   ]
  },
  {
   "cell_type": "code",
   "execution_count": 21,
   "metadata": {},
   "outputs": [
    {
     "name": "stdout",
     "output_type": "stream",
     "text": [
      "[ 1 2 3 ]\n"
     ]
    }
   ],
   "source": [
    "print(\"[\", end=\" \")\n",
    "for x in [1, 2, 3]:\n",
    "    print(x, end=\" \")\n",
    "print(\"]\", end=\"\\n\")"
   ]
  },
  {
   "cell_type": "markdown",
   "metadata": {},
   "source": [
    "## Religious affiliation\n",
    "\n",
    "Now we're ready to make some graphs.\n",
    "\n",
    "In October 2019 the Pew Research Center published \"[In U.S., Decline of Christianity Continues at Rapid Pace](https://www.pewforum.org/2019/10/17/in-u-s-decline-of-christianity-continues-at-rapid-pace/): An update on America's changing religious landscape\".\n",
    "\n",
    "It includes this figure, which shows changes in religious affiliation among adults in the U.S. over the previous 10 years.\n",
    "\n",
    "<img src=\"https://github.com/AllenDowney/ElementsOfDataScience/raw/master/figs/pew_religion_figure1.png\" width=\"300\">\n",
    "\n",
    "As an exercise, we'll replicate this figure.  It shows results from two sources, Religious Landscape Studies and Pew Research Political Surveys.  The political surveys provide data from more years, so we'll focus on that.\n",
    "\n",
    "[The data from the figure are available directly from Pew Research](https://www.pewforum.org/wp-content/uploads/sites/7/2019/10/Detailed-Tables-v1-FOR-WEB.pdf), but they are in a PDF document.  Later you'll learn how to extract data from PDF documents, but for now we'll enter the data by hand."
   ]
  },
  {
   "cell_type": "code",
   "execution_count": 22,
   "metadata": {},
   "outputs": [],
   "source": [
    "year = [2009, 2010, 2011, 2012, 2013, 2014, 2015, 2016, 2017, 2018]"
   ]
  },
  {
   "cell_type": "code",
   "execution_count": 23,
   "metadata": {},
   "outputs": [],
   "source": [
    "christian = [77, 76, 75, 73, 73, 71, 69, 68, 67, 65]"
   ]
  },
  {
   "cell_type": "code",
   "execution_count": 24,
   "metadata": {},
   "outputs": [],
   "source": [
    "unaffiliated = [17, 17, 19, 19, 20, 21, 24, 23, 25, 26]"
   ]
  },
  {
   "cell_type": "markdown",
   "metadata": {},
   "source": [
    "The library we'll use for plotting is Matplotlib; more specifically, we'll use a part of it called Pyplot, which we'll import with the nickname `plt`."
   ]
  },
  {
   "cell_type": "code",
   "execution_count": 25,
   "metadata": {},
   "outputs": [],
   "source": [
    "import matplotlib.pyplot as plt"
   ]
  },
  {
   "cell_type": "markdown",
   "metadata": {},
   "source": [
    "Pyplot provides a function called `plot` that makes a line plot.  It takes two sequences as arguments, the `x` values and the `y` values.  The sequences can be tuples, lists, or arrays."
   ]
  },
  {
   "cell_type": "code",
   "execution_count": 26,
   "metadata": {},
   "outputs": [
    {
     "data": {
      "text/plain": [
       "[<matplotlib.lines.Line2D at 0x7fd159f67cd0>]"
      ]
     },
     "execution_count": 26,
     "metadata": {},
     "output_type": "execute_result"
    },
    {
     "data": {
      "image/png": "[encoded data removed]",
      "text/plain": [
       "<Figure size 432x288 with 1 Axes>"
      ]
     },
     "metadata": {
      "needs_background": "light"
     },
     "output_type": "display_data"
    }
   ],
   "source": [
    "plt.plot(year, christian)"
   ]
  },
  {
   "cell_type": "markdown",
   "metadata": {},
   "source": [
    "In addition to the plot, Jupyter also displays the result from `plt.plot`, which is a value that represents the plotted line.\n",
    "\n",
    "For now we won't do anything with this value.  If you prefer not to see it, you can put a semi-colon at the end of the line to suppress it.\n",
    "\n",
    "If you plot multiple lines in a single cell, they appear on the same axes."
   ]
  },
  {
   "cell_type": "code",
   "execution_count": 27,
   "metadata": {},
   "outputs": [
    {
     "data": {
      "image/png": "[encoded data removed]",
      "text/plain": [
       "<Figure size 432x288 with 1 Axes>"
      ]
     },
     "metadata": {
      "needs_background": "light"
     },
     "output_type": "display_data"
    }
   ],
   "source": [
    "plt.plot(year, christian)\n",
    "plt.plot(year, unaffiliated);"
   ]
  },
  {
   "cell_type": "markdown",
   "metadata": {},
   "source": [
    "In this example, plotting them on the same axes makes it possible to compare them directly.\n",
    "\n",
    "However, notice that Pyplot chooses the range for the axes automatically; in this example the `y` axis starts around 15, not zero.  \n",
    "\n",
    "As a result, it provides a misleading picture, making the ratio of the two lines look bigger than it really is.\n",
    "\n",
    "We can set the limits of the `y` axis using the function `plt.ylim`.  The argument is a list with two values, the lower bound and the upper bound."
   ]
  },
  {
   "cell_type": "code",
   "execution_count": 31,
   "metadata": {},
   "outputs": [
    {
     "data": {
      "image/png": "[encoded data removed]",
      "text/plain": [
       "<Figure size 432x288 with 1 Axes>"
      ]
     },
     "metadata": {
      "needs_background": "light"
     },
     "output_type": "display_data"
    }
   ],
   "source": [
    "plt.plot(year, christian)\n",
    "plt.plot(year, unaffiliated)\n",
    "\n",
    "plt.ylim([0, 80]);"
   ]
  },
  {
   "cell_type": "markdown",
   "metadata": {},
   "source": [
    "That's better, but this graph is missing some of the most important elements: labels for the axes, and a title.  "
   ]
  },
  {
   "cell_type": "markdown",
   "metadata": {},
   "source": [
    "## Decorating the axes\n",
    "\n",
    "To label the axes and add a title, we'll use Pyplot functions `xlabel`, `ylabel`, and `title`.  All of them take strings as arguments."
   ]
  },
  {
   "cell_type": "code",
   "execution_count": 32,
   "metadata": {},
   "outputs": [
    {
     "data": {
      "image/png": "[encoded data removed]",
      "text/plain": [
       "<Figure size 432x288 with 1 Axes>"
      ]
     },
     "metadata": {
      "needs_background": "light"
     },
     "output_type": "display_data"
    }
   ],
   "source": [
    "plt.plot(year, christian)\n",
    "plt.plot(year, unaffiliated)\n",
    "\n",
    "plt.ylim([0, 80])\n",
    "plt.xlabel('Year')\n",
    "plt.ylabel('% of adults')\n",
    "plt.title('Religious affiliation of U.S adults');"
   ]
  },
  {
   "cell_type": "markdown",
   "metadata": {},
   "source": [
    "Now let's add another important element, a legend that indicates which line is which.\n",
    "\n",
    "To do that, we add a label to each line, using the keyword argument `label`.\n",
    "\n",
    "Then we call `plt.legend` to create the legend."
   ]
  },
  {
   "cell_type": "code",
   "execution_count": 33,
   "metadata": {},
   "outputs": [
    {
     "data": {
      "image/png": "[encoded data removed]",
      "text/plain": [
       "<Figure size 432x288 with 1 Axes>"
      ]
     },
     "metadata": {
      "needs_background": "light"
     },
     "output_type": "display_data"
    }
   ],
   "source": [
    "plt.plot(year, christian, label='Christian')\n",
    "plt.plot(year, unaffiliated, label='Unaffiliated')\n",
    "\n",
    "plt.ylim([0, 80])\n",
    "plt.xlabel('Year')\n",
    "plt.ylabel('% of adults')\n",
    "plt.title('Religious affiliation of U.S adults')\n",
    "plt.legend();"
   ]
  },
  {
   "cell_type": "markdown",
   "metadata": {},
   "source": [
    "**Exercise:** The orginal figure plots lines between the data points, but it also plots \"markers\" showing the location of each data point.  It is generally good practice to include markers, especially if data are not available for every year.\n",
    "\n",
    "Modify the previous example to include a keyword argument `marker` with the string value `'o'`, which indicates that you want to plot circles as markers."
   ]
  },
  {
   "cell_type": "code",
   "execution_count": 42,
   "metadata": {},
   "outputs": [
    {
     "data": {
      "text/plain": [
       "<matplotlib.legend.Legend at 0x7fd15a515810>"
      ]
     },
     "execution_count": 42,
     "metadata": {},
     "output_type": "execute_result"
    },
    {
     "data": {
      "image/png": "[encoded data removed]",
      "text/plain": [
       "<Figure size 432x288 with 1 Axes>"
      ]
     },
     "metadata": {
      "needs_background": "light"
     },
     "output_type": "display_data"
    }
   ],
   "source": [
    "# Solution goes here\n",
    "plt.plot(year, christian, marker='o', label='Christian')\n",
    "plt.plot(year, unaffiliated, marker='o', label='Unaffiliated');\n",
    "\n",
    "plt.ylim([0, 80]);\n",
    "plt.xlabel(\"Year\");\n",
    "plt.ylabel(\"% of adults\");\n",
    "plt.title(\"Religious Affiliation of US Adults\");\n",
    "plt.legend()"
   ]
  },
  {
   "cell_type": "markdown",
   "metadata": {},
   "source": [
    "**Exercise:** In the original figure, the line labelled `'Christian'` is red and the line labeled `'Unaffiliated'` is grey.\n",
    "\n",
    "Find the online documentation of `plt.plot` and figure out how to use keyword arguments to specify colors.  Choose colors to (roughly) match the original figure.\n",
    "\n",
    "The `legend` function takes a keyword argument that speficies the location of the legend.  Read the documentation of this function and move the legend to the center left of the figure."
   ]
  },
  {
   "cell_type": "code",
   "execution_count": 45,
   "metadata": {},
   "outputs": [
    {
     "data": {
      "image/png": "[encoded data removed]",
      "text/plain": [
       "<Figure size 432x288 with 1 Axes>"
      ]
     },
     "metadata": {
      "needs_background": "light"
     },
     "output_type": "display_data"
    }
   ],
   "source": [
    "# Solution goes here\n",
    "plt.plot(year, christian, label='Christian', marker='o', color='red')\n",
    "plt.plot(year, unaffiliated, label='Unaffiliated', marker='o', color='gray');\n",
    "\n",
    "plt.ylim([0, 80]);\n",
    "plt.xlabel('Year');\n",
    "plt.ylabel('% of adults');\n",
    "plt.title('Religious Affiliation of U.S')"
   ]
  },
  {
   "cell_type": "markdown",
   "metadata": {},
   "source": [
    "## Sandwiches\n",
    "\n",
    "In a previous notebook we used data from an article in *The Economist* comparing sandwich prices in Boston and London: \"[Why Americans pay more for lunch than Britons do](https://www.economist.com/finance-and-economics/2019/09/07/why-americans-pay-more-for-lunch-than-britons-do)\"\n",
    "\n",
    "The article includes this graph showing prices of several sandwiches in the two cities:\n",
    "\n",
    "<img src=\"https://github.com/AllenDowney/ElementsOfDataScience/raw/master/figs/20190907_FNC941.png\" width=\"400\"/>\n",
    "\n",
    "As an exercise, let's see if we can replicate this figure.\n",
    "\n",
    "Here's the data from the article again: the names of the sandwiches and the price list for each city."
   ]
  },
  {
   "cell_type": "code",
   "execution_count": 22,
   "metadata": {},
   "outputs": [],
   "source": [
    "name_list = ['Lobster roll',\n",
    "    'Chicken caesar',\n",
    "    'Bang bang chicken',\n",
    "    'Ham and cheese',\n",
    "    'Tuna and cucumber',\n",
    "    'Egg'\n",
    "]"
   ]
  },
  {
   "cell_type": "code",
   "execution_count": 23,
   "metadata": {},
   "outputs": [],
   "source": [
    "boston_price_list = [9.99, 7.99, 7.49, 7, 6.29, 4.99]"
   ]
  },
  {
   "cell_type": "code",
   "execution_count": 24,
   "metadata": {},
   "outputs": [],
   "source": [
    "london_price_list = [7.5, 5, 4.4, 5, 3.75, 2.25]"
   ]
  },
  {
   "cell_type": "markdown",
   "metadata": {},
   "source": [
    "In the previous section we plotted percentages on the `y` axis versus time on the `x` axis.  \n",
    "\n",
    "Now we want to plot the sandwich names on the `y` axis and the prices on the `x` axis.  Here's how:"
   ]
  },
  {
   "cell_type": "code",
   "execution_count": 25,
   "metadata": {},
   "outputs": [],
   "source": [
    "plt.plot(boston_price_list, name_list)\n",
    "plt.xlabel('Price in USD');"
   ]
  },
  {
   "cell_type": "markdown",
   "metadata": {},
   "source": [
    "`name_list` is a list of strings; Pyplot orders them from top to bottom, equally spaced.\n",
    "\n",
    "By default Pyplot connects the points with lines, but in this example the lines don't make sense because the sandwich names are \"categorical\", not numerical.  You can't interpolate between an egg sandwich and a tuna sandwich.\n",
    "\n",
    "We can turn on markers and turn off lines with keyword arguments."
   ]
  },
  {
   "cell_type": "code",
   "execution_count": 26,
   "metadata": {},
   "outputs": [],
   "source": [
    "plt.plot(boston_price_list, name_list, marker='o', linestyle='')\n",
    "plt.xlabel('Price in USD');"
   ]
  },
  {
   "cell_type": "markdown",
   "metadata": {},
   "source": [
    "Or we can do the same thing more concisely by providing a \"format string\" as a positional argument.  You can read the documentation of `plt.plot` to learn more about format strings.\n",
    "\n",
    "I added a title at the same time."
   ]
  },
  {
   "cell_type": "code",
   "execution_count": 27,
   "metadata": {},
   "outputs": [],
   "source": [
    "plt.plot(boston_price_list, name_list, 'o')\n",
    "plt.plot(london_price_list, name_list, 's')\n",
    "\n",
    "plt.xlabel('Price in USD')\n",
    "plt.title('Pret a Manger prices in Boston and London');"
   ]
  },
  {
   "cell_type": "markdown",
   "metadata": {},
   "source": [
    "To approximate the colors in the original figure, I use the strings `'C3'` and `'C0'` to specify colors from the default color sequence.  [You can read the documentation to learn more about specifying colors in Pyplot](https://matplotlib.org/3.1.1/tutorials/colors/colors.html)."
   ]
  },
  {
   "cell_type": "code",
   "execution_count": 28,
   "metadata": {},
   "outputs": [],
   "source": [
    "plt.plot(boston_price_list, name_list, 'o', color='C3')\n",
    "plt.plot(london_price_list, name_list, 's', color='C0')\n",
    "\n",
    "plt.xlabel('Price in USD')\n",
    "plt.title('Pret a Manger prices in Boston and London');"
   ]
  },
  {
   "cell_type": "markdown",
   "metadata": {},
   "source": [
    "To connect the dots with lines, I use `plt.hlines`, which draws horizontal lines.  It takes three arguments: a sequence of values on the `y` axis, which are the sandwich names in this example, and two sequences of values on the `x` axis, which are the London prices and Boston prices in this example."
   ]
  },
  {
   "cell_type": "code",
   "execution_count": 29,
   "metadata": {},
   "outputs": [],
   "source": [
    "plt.plot(boston_price_list, name_list, 'o', color='C3')\n",
    "plt.plot(london_price_list, name_list, 's', color='C0')\n",
    "\n",
    "plt.hlines(name_list, london_price_list, boston_price_list)\n",
    "\n",
    "plt.xlabel('Price in USD')\n",
    "plt.title('Pret a Manger prices in Boston and London');"
   ]
  },
  {
   "cell_type": "markdown",
   "metadata": {},
   "source": [
    "**Exercise:** To finish off this example, add a legend that identifies the London and Boston prices.  Remember that you have to add a `label` keyword each time you call `plt.plot`, and then call `plt.legend`.\n",
    "\n",
    "Notice that the sandwiches in our figure are in the opposite order of the sandwiches in the original figure.  There is a Pyplot function that inverts the `y` axis; see if you can find it and use it to reverse the order of the sandwich list."
   ]
  },
  {
   "cell_type": "code",
   "execution_count": 30,
   "metadata": {},
   "outputs": [],
   "source": [
    "# Solution goes here"
   ]
  },
  {
   "cell_type": "markdown",
   "metadata": {},
   "source": [
    "## Zipf's law\n",
    "\n",
    "In the previous notebook we downloaded *War and Peace* from [Project Gutenberg](https://www.gutenberg.org) and counted the number of lines and words.\n",
    "\n",
    "Then we used a dictionary to count the number of unique words and the number of times each one appears.\n",
    "\n",
    "Now we'll use those results to generate a \"Zipf plot\", which shows the frequency of the words on the `y` axis, ordered from the most common word to the least.\n",
    "\n",
    "First, let's download the book again.  If you run the following cell, it checks to see whether you already have a file named `2600-0.txt`; if not, it uses `wget` to copy a book from Project Gutenberg to your computer.  "
   ]
  },
  {
   "cell_type": "code",
   "execution_count": 31,
   "metadata": {},
   "outputs": [],
   "source": [
    "import os\n",
    "\n",
    "if not os.path.exists('2600-0.txt'):\n",
    "    !wget https://www.gutenberg.org/files/2600/2600-0.txt"
   ]
  },
  {
   "cell_type": "markdown",
   "metadata": {},
   "source": [
    "Here's the code from the previous notebook that loops through the book and makes a dictionary that contains all punctuation characters.  Again, you don't have to understand all of the details here."
   ]
  },
  {
   "cell_type": "code",
   "execution_count": 32,
   "metadata": {},
   "outputs": [],
   "source": [
    "import unicodedata\n",
    "\n",
    "fp = open('2600-0.txt')\n",
    "punc_marks = {}\n",
    "for line in fp:\n",
    "    for x in line:\n",
    "        category = unicodedata.category(x)\n",
    "        if category[0] == 'P':\n",
    "            punc_marks[x] = 1\n",
    "        \n",
    "all_punctuation = ''.join(punc_marks)\n",
    "print(all_punctuation)"
   ]
  },
  {
   "cell_type": "markdown",
   "metadata": {},
   "source": [
    "And here's a solution to one of the previous exercises.  It loops through the book and makes a dictionary that maps from each word to the number of times it appears."
   ]
  },
  {
   "cell_type": "code",
   "execution_count": 33,
   "metadata": {},
   "outputs": [],
   "source": [
    "first_line = \"CHAPTER I\\n\"\n",
    "last_line = \"End of the Project Gutenberg EBook of War and Peace, by Leo Tolstoy\\n\"\n",
    "\n",
    "fp = open('2600-0.txt')\n",
    "for line in fp:\n",
    "    if line == first_line:\n",
    "        break\n",
    "\n",
    "unique_words = {}\n",
    "for line in fp:\n",
    "    if line == last_line:\n",
    "        break\n",
    "        \n",
    "    for word in line.split():\n",
    "        word = word.lower()\n",
    "        word = word.strip(all_punctuation)\n",
    "        if word in unique_words:\n",
    "            unique_words[word] += 1\n",
    "        else:\n",
    "            unique_words[word] = 1"
   ]
  },
  {
   "cell_type": "markdown",
   "metadata": {},
   "source": [
    "## Frequencies and ranks\n",
    "\n",
    "[According to Wikipedia](https://en.wikipedia.org/wiki/Zipf%27s_law), Zipf's law\n",
    "\n",
    ">was originally formulated in terms of quantitative linguistics, stating that given some corpus of natural language utterances, the frequency of any word is inversely proportional to its rank in the frequency table. Thus the most frequent word will occur approximately twice as often as the second most frequent word, three times as often as the third most frequent word, etc.\n",
    "\n",
    "To see if this law holds for the words in *War and Peace*, we'll make a plot that shows:\n",
    "\n",
    "* The frequency of each word on the `y` axis, and\n",
    "\n",
    "* The rank of each word on the `x` axis, where the rank of the most frequent word is 1, the rank of the frequent most common word is 2, etc."
   ]
  },
  {
   "cell_type": "markdown",
   "metadata": {},
   "source": [
    "In `unique_words`, the keys are words and the values are their frequencies.  We can use the `values` function to get the values from the dictionary.  The result has the type `dict_values`: "
   ]
  },
  {
   "cell_type": "code",
   "execution_count": 34,
   "metadata": {},
   "outputs": [],
   "source": [
    "freqs = unique_words.values()\n",
    "type(freqs)"
   ]
  },
  {
   "cell_type": "markdown",
   "metadata": {},
   "source": [
    "Before we plot them, we have to sort them, but the `sort` function doesn't work with `dict_values`:"
   ]
  },
  {
   "cell_type": "code",
   "execution_count": 35,
   "metadata": {},
   "outputs": [],
   "source": [
    "freqs.sort()"
   ]
  },
  {
   "cell_type": "markdown",
   "metadata": {},
   "source": [
    "We can use `list` to make a list of frequencies:"
   ]
  },
  {
   "cell_type": "code",
   "execution_count": 36,
   "metadata": {},
   "outputs": [],
   "source": [
    "freqs = list(unique_words.values())\n",
    "type(freqs)"
   ]
  },
  {
   "cell_type": "markdown",
   "metadata": {},
   "source": [
    "And the `sort` function works with lists.  By default it sorts in ascending order, but we can pass a keyword argument to reverse the order."
   ]
  },
  {
   "cell_type": "code",
   "execution_count": 37,
   "metadata": {},
   "outputs": [],
   "source": [
    "freqs.sort(reverse=True)"
   ]
  },
  {
   "cell_type": "markdown",
   "metadata": {},
   "source": [
    "Now, for the ranks, we need a sequence that counts from 1 to `n`, where `n` is the number of elements in `freqs`.  We can use the `range` function, which returs a value with type `range`.\n",
    "\n",
    "As a small example, here's the range from 1 to 5."
   ]
  },
  {
   "cell_type": "code",
   "execution_count": 38,
   "metadata": {},
   "outputs": [],
   "source": [
    "range(1, 5)"
   ]
  },
  {
   "cell_type": "markdown",
   "metadata": {},
   "source": [
    "However, there's a catch.  If we use the range to make a list, we see that \"the range from 1 to 5\" includes 1, but it doesn't include 5."
   ]
  },
  {
   "cell_type": "code",
   "execution_count": 39,
   "metadata": {},
   "outputs": [],
   "source": [
    "list(range(1, 5))"
   ]
  },
  {
   "cell_type": "markdown",
   "metadata": {},
   "source": [
    "That might seem strange, but it is [often more convenient](https://www.cs.utexas.edu/users/EWD/transcriptions/EWD08xx/EWD831.html) to use `range` when it is defined this way, rather than what might seem like the more natural way.\n",
    "\n",
    "Anyway, we can get what we want by increasing the second argument by one:"
   ]
  },
  {
   "cell_type": "code",
   "execution_count": 40,
   "metadata": {},
   "outputs": [],
   "source": [
    "list(range(1, 6))"
   ]
  },
  {
   "cell_type": "markdown",
   "metadata": {},
   "source": [
    "So, finally, we can make a range that represents the ranks from `1` to `n`:"
   ]
  },
  {
   "cell_type": "code",
   "execution_count": 41,
   "metadata": {},
   "outputs": [],
   "source": [
    "n = len(freqs)\n",
    "ranks = range(1, n+1)\n",
    "ranks"
   ]
  },
  {
   "cell_type": "markdown",
   "metadata": {},
   "source": [
    "And now we can plot the frequencies versus the ranks:"
   ]
  },
  {
   "cell_type": "code",
   "execution_count": 42,
   "metadata": {},
   "outputs": [],
   "source": [
    "plt.plot(ranks, freqs)\n",
    "\n",
    "plt.xlabel('Rank')\n",
    "plt.ylabel('Frequency')\n",
    "plt.title(\"War and Peace and Zipf's law\");"
   ]
  },
  {
   "cell_type": "markdown",
   "metadata": {},
   "source": [
    "## Logarithmic scales\n",
    "\n",
    "The few most common words are very common, and the great majority of words are much less common.  So that's consistent with Zipf's law, but Zipf's law is more specific.  It claims that the frequencies should be inversely proportional to the ranks.  If that's true, we can write the mathematical relation:\n",
    "\n",
    "$f = k / r$\n",
    "\n",
    "where $r$ is the rank of a word, $f$ is its frequency, and $k$ is an unknown constant of proportionality.  If we take the log of both sides, we get this relation:\n",
    "\n",
    "$\\log f = \\log k - \\log r$\n",
    "\n",
    "This relation implies that if we plot $f$ versus $r$ on a log-log scale, we expect to see a straight line with intercept at $\\log k$ and slope -1.\n",
    "\n",
    "We can use `plt.xscale` to plot the `x` axis on a log scale."
   ]
  },
  {
   "cell_type": "code",
   "execution_count": 43,
   "metadata": {},
   "outputs": [],
   "source": [
    "plt.plot(ranks, freqs)\n",
    "\n",
    "plt.xlabel('Rank')\n",
    "plt.ylabel('Frequency')\n",
    "plt.title(\"War and Peace and Zipf's law\")\n",
    "plt.xscale('log')"
   ]
  },
  {
   "cell_type": "markdown",
   "metadata": {},
   "source": [
    "And `plt.yscale` to plot the `y` axis on a log scale."
   ]
  },
  {
   "cell_type": "code",
   "execution_count": 44,
   "metadata": {},
   "outputs": [],
   "source": [
    "plt.plot(ranks, freqs)\n",
    "\n",
    "plt.xlabel('Rank')\n",
    "plt.ylabel('Frequency')\n",
    "plt.title(\"War and Peace and Zipf's law\")\n",
    "plt.xscale('log')\n",
    "plt.yscale('log')"
   ]
  },
  {
   "cell_type": "markdown",
   "metadata": {},
   "source": [
    "The result is not quite a straight line, but it is close.  We can get a sense of the slope by connecting the end points with a line."
   ]
  },
  {
   "cell_type": "code",
   "execution_count": 45,
   "metadata": {},
   "outputs": [],
   "source": [
    "xs = [ranks[0], ranks[-1]]\n",
    "xs"
   ]
  },
  {
   "cell_type": "code",
   "execution_count": 46,
   "metadata": {},
   "outputs": [],
   "source": [
    "ys = [freqs[0], freqs[-1]]\n",
    "ys"
   ]
  },
  {
   "cell_type": "code",
   "execution_count": 47,
   "metadata": {},
   "outputs": [],
   "source": [
    "plt.plot(xs, ys, color='gray')\n",
    "plt.plot(ranks, freqs)\n",
    "\n",
    "plt.xlabel('Rank')\n",
    "plt.ylabel('Frequency')\n",
    "plt.title(\"War and Peace and Zipf's law\")\n",
    "plt.xscale('log')\n",
    "plt.yscale('log')"
   ]
  },
  {
   "cell_type": "markdown",
   "metadata": {},
   "source": [
    "The slope of this line is the \"rise over run\", that is, the difference on the `y` axis divided by the difference on the `x` axis.\n",
    "\n",
    "We can compute the rise using `np.log` to compute the log of the first and last values:"
   ]
  },
  {
   "cell_type": "code",
   "execution_count": 48,
   "metadata": {},
   "outputs": [],
   "source": [
    "np.log(ys)"
   ]
  },
  {
   "cell_type": "markdown",
   "metadata": {},
   "source": [
    "Then we can use `np.diff` to compute the difference between the elements:"
   ]
  },
  {
   "cell_type": "code",
   "execution_count": 49,
   "metadata": {},
   "outputs": [],
   "source": [
    "np.diff(np.log(ys))"
   ]
  },
  {
   "cell_type": "markdown",
   "metadata": {},
   "source": [
    "**Exercise:** Use `diff` to compute the run, that is, the difference on the `x` axis.  The divide the rise by the run to get the slope of the grey line.  \n",
    "\n",
    "Is it close to -1, as Zipf's law predicts?"
   ]
  },
  {
   "cell_type": "code",
   "execution_count": 50,
   "metadata": {},
   "outputs": [],
   "source": [
    "# Solution goes here"
   ]
  },
  {
   "cell_type": "code",
   "execution_count": null,
   "metadata": {},
   "outputs": [],
   "source": []
  }
 ],
 "metadata": {
  "kernelspec": {
   "display_name": "Python 3",
   "language": "python",
   "name": "python3"
  },
  "language_info": {
   "codemirror_mode": {
    "name": "ipython",
    "version": 3
   },
   "file_extension": ".py",
   "mimetype": "text/x-python",
   "name": "python",
   "nbconvert_exporter": "python",
   "pygments_lexer": "ipython3",
   "version": "3.7.7"
  }
 },
 "nbformat": 4,
 "nbformat_minor": 2
}
